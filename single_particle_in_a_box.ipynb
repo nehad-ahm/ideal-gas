{
 "cells": [
  {
   "cell_type": "code",
   "execution_count": 3,
   "metadata": {},
   "outputs": [],
   "source": [
    "import matplotlib.pyplot as plt\n",
    "import numpy as np"
   ]
  },
  {
   "cell_type": "code",
   "execution_count": 6,
   "metadata": {},
   "outputs": [
    {
     "name": "stdout",
     "output_type": "stream",
     "text": [
      "[[175.88746139213336]]\n"
     ]
    }
   ],
   "source": [
    "box_size = 200\n",
    "time_step = 0.01\n",
    "total_time = 10\n",
    "tvals = np.arange(0, total_time, time_step)\n",
    "\n",
    "x_pos = box_size * np.random.rand()\n",
    "y_pos = box_size * np.random.rand()\n",
    "\n",
    "x = []\n",
    "y = []\n",
    "x.append([x_pos])\n",
    "y.append([y_pos])\n"
   ]
  }
 ],
 "metadata": {
  "kernelspec": {
   "display_name": "Python 3",
   "language": "python",
   "name": "python3"
  },
  "language_info": {
   "codemirror_mode": {
    "name": "ipython",
    "version": 3
   },
   "file_extension": ".py",
   "mimetype": "text/x-python",
   "name": "python",
   "nbconvert_exporter": "python",
   "pygments_lexer": "ipython3",
   "version": "3.12.3"
  }
 },
 "nbformat": 4,
 "nbformat_minor": 2
}
