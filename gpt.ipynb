{
 "cells": [
  {
   "cell_type": "code",
   "execution_count": 9,
   "metadata": {},
   "outputs": [
    {
     "name": "stdout",
     "output_type": "stream",
     "text": [
      "Animation saved as ideal_gas_simulation.gif\n"
     ]
    },
    {
     "data": {
      "image/png": "[encoded data removed]",
      "text/plain": [
       "<Figure size 640x480 with 1 Axes>"
      ]
     },
     "metadata": {},
     "output_type": "display_data"
    }
   ],
   "source": [
    "import numpy as np\n",
    "import matplotlib.pyplot as plt\n",
    "from matplotlib.animation import FuncAnimation, PillowWriter\n",
    "\n",
    "# Simulation parameters\n",
    "n_particles = 100  # Number of particles\n",
    "box_size = 10.0    # Size of the box (length of one side)\n",
    "particle_radius = 0.2  # Radius of each particle\n",
    "max_velocity = 2.0  # Maximum initial velocity\n",
    "time_step = 0.01  # Time step for simulation\n",
    "n_steps = 1000  # Number of steps to simulate\n",
    "\n",
    "# Initialize particle positions and velocities\n",
    "np.random.seed(42)  # For reproducibility\n",
    "positions = np.random.uniform(particle_radius, box_size - particle_radius, (n_particles, 2))\n",
    "velocities = np.random.uniform(-max_velocity, max_velocity, (n_particles, 2))\n",
    "\n",
    "# Function to handle collisions with walls\n",
    "def handle_wall_collisions(positions, velocities, box_size):\n",
    "    for i in range(n_particles):\n",
    "        for dim in range(2):  # Check x and y dimensions\n",
    "            if positions[i, dim] - particle_radius < 0 or positions[i, dim] + particle_radius > box_size:\n",
    "                velocities[i, dim] *= -1\n",
    "    return velocities\n",
    "\n",
    "# Function to handle collisions between particles\n",
    "def handle_particle_collisions(positions, velocities):\n",
    "    for i in range(n_particles):\n",
    "        for j in range(i + 1, n_particles):\n",
    "            delta_pos = positions[i] - positions[j]\n",
    "            distance = np.linalg.norm(delta_pos)\n",
    "            if distance < 2 * particle_radius:  # Collision condition\n",
    "                # Compute the velocity change\n",
    "                delta_v = velocities[i] - velocities[j]\n",
    "                delta_pos_unit = delta_pos / distance\n",
    "                velocities[i] -= np.dot(delta_v, delta_pos_unit) * delta_pos_unit\n",
    "                velocities[j] += np.dot(delta_v, delta_pos_unit) * delta_pos_unit\n",
    "    return velocities\n",
    "\n",
    "# Initialize the figure for animation\n",
    "fig, ax = plt.subplots()\n",
    "ax.set_xlim(0, box_size)\n",
    "ax.set_ylim(0, box_size)\n",
    "particles = plt.scatter(positions[:, 0], positions[:, 1], s=100 * particle_radius**2)\n",
    "\n",
    "# Update function for animation\n",
    "def update(frame):\n",
    "    global positions, velocities\n",
    "    positions += velocities * time_step\n",
    "    velocities = handle_wall_collisions(positions, velocities, box_size)\n",
    "    velocities = handle_particle_collisions(positions, velocities)\n",
    "    particles.set_offsets(positions)\n",
    "    return particles,\n",
    "\n",
    "# Create the animation\n",
    "ani = FuncAnimation(fig, update, frames=n_steps, interval=20, blit=True)\n",
    "\n",
    "# Save the animation to a GIF\n",
    "output_file = \"ideal_gas_simulation.gif\"\n",
    "ani.save(output_file, writer=PillowWriter(fps=30))\n",
    "print(f\"Animation saved as {output_file}\")\n"
   ]
  }
 ],
 "metadata": {
  "kernelspec": {
   "display_name": "Python 3",
   "language": "python",
   "name": "python3"
  },
  "language_info": {
   "codemirror_mode": {
    "name": "ipython",
    "version": 3
   },
   "file_extension": ".py",
   "mimetype": "text/x-python",
   "name": "python",
   "nbconvert_exporter": "python",
   "pygments_lexer": "ipython3",
   "version": "3.12.3"
  }
 },
 "nbformat": 4,
 "nbformat_minor": 2
}
