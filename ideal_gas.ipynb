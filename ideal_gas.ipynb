{
 "cells": [
  {
   "cell_type": "code",
   "execution_count": 1,
   "metadata": {},
   "outputs": [],
   "source": [
    "import numpy as np\n",
    "import matplotlib.pyplot as plt"
   ]
  },
  {
   "cell_type": "code",
   "execution_count": 76,
   "metadata": {},
   "outputs": [
    {
     "data": {
      "text/plain": [
       "2"
      ]
     },
     "execution_count": 76,
     "metadata": {},
     "output_type": "execute_result"
    }
   ],
   "source": [
    "box_size = 500\n",
    "x_coords = np.linspace(0, box_size, 1)\n",
    "y_coords = np.linspace(0, box_size, 1)\n",
    "\n",
    "time_step = 0.01\n",
    "total_time = 10\n",
    "num_particles = 2\n",
    "mass = []\n",
    "pos0 = []\n",
    "radii = []\n",
    "vel0 = []\n",
    "for i in range(num_particles):\n",
    "    pos0.append(box_size * np.random.rand(2))\n",
    "    mass.append(1)\n",
    "    radii.append(1)\n",
    "    vel0.append(250*np.random.rand(2))\n",
    "\n",
    "t_vals = np.arange(0, total_time, time_step)\n",
    "pos = []\n",
    "vel = []\n",
    "pos.append(pos0)\n",
    "vel.append(vel0)\n",
    "\n",
    "\n",
    "len(pos[0])"
   ]
  },
  {
   "cell_type": "code",
   "execution_count": 77,
   "metadata": {},
   "outputs": [
    {
     "name": "stdout",
     "output_type": "stream",
     "text": [
      "1\n",
      "[[array([348.49661167, 446.73929807]), array([459.22596091, 119.14619037])]]\n",
      "[[array([13.12616794, 46.52134586]), array([38.77790498, 22.0117798 ])]]\n",
      "[array([348.49661167, 446.73929807]), array([459.22596091, 119.14619037])]\n",
      "[array([361.62277961, 493.26064393]), array([498.00386589, 141.15797017])]\n",
      "2\n"
     ]
    }
   ],
   "source": [
    "print(len(pos))\n",
    "print(pos)\n",
    "print(vel)\n",
    "\n",
    "new_pos = []\n",
    "for i in range(len(pos[0])):\n",
    "    new_pos.append(pos[0][i] + 1*vel[0][i])\n",
    "\n",
    "print(pos[0])\n",
    "print(new_pos)\n",
    "\n",
    "pos.append([new_pos])\n",
    "print(len(pos))"
   ]
  },
  {
   "cell_type": "code",
   "execution_count": 13,
   "metadata": {},
   "outputs": [
    {
     "ename": "TypeError",
     "evalue": "object of type 'numpy.float64' has no len()",
     "output_type": "error",
     "traceback": [
      "\u001b[0;31m---------------------------------------------------------------------------\u001b[0m",
      "\u001b[0;31mTypeError\u001b[0m                                 Traceback (most recent call last)",
      "Cell \u001b[0;32mIn[13], line 1\u001b[0m\n\u001b[0;32m----> 1\u001b[0m \u001b[38;5;28;43mlen\u001b[39;49m\u001b[43m(\u001b[49m\u001b[43mpos\u001b[49m\u001b[43m[\u001b[49m\u001b[38;5;241;43m0\u001b[39;49m\u001b[43m]\u001b[49m\u001b[43m)\u001b[49m\n",
      "\u001b[0;31mTypeError\u001b[0m: object of type 'numpy.float64' has no len()"
     ]
    }
   ],
   "source": [
    "len(pos[0])"
   ]
  }
 ],
 "metadata": {
  "kernelspec": {
   "display_name": "Python 3",
   "language": "python",
   "name": "python3"
  },
  "language_info": {
   "codemirror_mode": {
    "name": "ipython",
    "version": 3
   },
   "file_extension": ".py",
   "mimetype": "text/x-python",
   "name": "python",
   "nbconvert_exporter": "python",
   "pygments_lexer": "ipython3",
   "version": "3.12.3"
  }
 },
 "nbformat": 4,
 "nbformat_minor": 2
}
